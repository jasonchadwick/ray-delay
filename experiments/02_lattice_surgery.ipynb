{
 "cells": [
  {
   "cell_type": "code",
   "execution_count": 1,
   "metadata": {},
   "outputs": [],
   "source": [
    "import sys\n",
    "sys.path.append('..')\n",
    "from ray_delay.device_simulator.stim_simulator.patch import SurfaceCodePatch\n",
    "from ray_delay.device_simulator.stim_simulator.memory import MemoryPatch\n",
    "from ray_delay.device_simulator.stim_simulator.lattice_surgery.glue import GluePatch, BoundaryType\n",
    "from ray_delay.device_simulator.stim_simulator.lattice_surgery.surgery_op import SurgeryOp"
   ]
  },
  {
   "cell_type": "code",
   "execution_count": 2,
   "metadata": {},
   "outputs": [],
   "source": [
    "patch1 = MemoryPatch(3, 3, 3)\n",
    "patch2 = MemoryPatch(3, 3, 3)"
   ]
  },
  {
   "cell_type": "code",
   "execution_count": 3,
   "metadata": {},
   "outputs": [],
   "source": [
    "glue = GluePatch(patch1, BoundaryType.BOTTOM, patch2, BoundaryType.TOP)"
   ]
  },
  {
   "cell_type": "code",
   "execution_count": 4,
   "metadata": {},
   "outputs": [
    {
     "data": {
      "text/plain": [
       "------------------------------------\n",
       "|    |    |\u001b[0;34mX  9\u001b[1;37;0m|    |    |    |    |\n",
       "----------+----+--------------------\n",
       "|    |\u001b[1;37;48m   0\u001b[1;37;0m|    |\u001b[1;37;48m   1\u001b[1;37;0m|    |\u001b[1;37;48m   2\u001b[1;37;0m|    |\n",
       "----------+----+----+----+----+-----\n",
       "|    |    |\u001b[0;31mZ 10\u001b[1;37;0m|    |\u001b[0;34mX 11\u001b[1;37;0m|    |\u001b[0;31mZ 12\u001b[1;37;0m|\n",
       "----------+----+----+----+----+-----\n",
       "|    |\u001b[1;37;48mL  3\u001b[1;37;0m|    |\u001b[1;37;48mL  4\u001b[1;37;0m|    |\u001b[1;37;48mL  5\u001b[1;37;0m|    |\n",
       "-----+----+----+----+----+----------\n",
       "|\u001b[0;31mZ 13\u001b[1;37;0m|    |\u001b[0;34mX 14\u001b[1;37;0m|    |\u001b[0;31mZ 15\u001b[1;37;0m|    |    |\n",
       "-----+----+----+----+----+----------\n",
       "|    |\u001b[1;37;48m   6\u001b[1;37;0m|    |\u001b[1;37;48m   7\u001b[1;37;0m|    |\u001b[1;37;48m   8\u001b[1;37;0m|    |\n",
       "--------------------+----+----------\n",
       "|    |    |    |    |\u001b[0;34mX 16\u001b[1;37;0m|    |    |\n",
       "------------------------------------"
      ]
     },
     "metadata": {},
     "output_type": "display_data"
    },
    {
     "data": {
      "text/plain": [
       "------------------------------------\n",
       "|    |    |    |    |\u001b[0;34mX  3\u001b[1;37;0m|    |    |\n",
       "--------------------+----+----------\n",
       "|    |\u001b[1;37;48mL  2\u001b[1;37;0m|    |\u001b[1;37;48mL  1\u001b[1;37;0m|    |\u001b[1;37;48mL  0\u001b[1;37;0m|    |\n",
       "----------+----+--------------------\n",
       "|    |    |\u001b[0;34mX  4\u001b[1;37;0m|    |    |    |    |\n",
       "------------------------------------"
      ]
     },
     "metadata": {},
     "output_type": "display_data"
    },
    {
     "data": {
      "text/plain": [
       "------------------------------------\n",
       "|    |    |\u001b[0;34mX  9\u001b[1;37;0m|    |    |    |    |\n",
       "----------+----+--------------------\n",
       "|    |\u001b[1;37;48m   0\u001b[1;37;0m|    |\u001b[1;37;48m   1\u001b[1;37;0m|    |\u001b[1;37;48m   2\u001b[1;37;0m|    |\n",
       "----------+----+----+----+----+-----\n",
       "|    |    |\u001b[0;31mZ 10\u001b[1;37;0m|    |\u001b[0;34mX 11\u001b[1;37;0m|    |\u001b[0;31mZ 12\u001b[1;37;0m|\n",
       "----------+----+----+----+----+-----\n",
       "|    |\u001b[1;37;48mL  3\u001b[1;37;0m|    |\u001b[1;37;48mL  4\u001b[1;37;0m|    |\u001b[1;37;48mL  5\u001b[1;37;0m|    |\n",
       "-----+----+----+----+----+----------\n",
       "|\u001b[0;31mZ 13\u001b[1;37;0m|    |\u001b[0;34mX 14\u001b[1;37;0m|    |\u001b[0;31mZ 15\u001b[1;37;0m|    |    |\n",
       "-----+----+----+----+----+----------\n",
       "|    |\u001b[1;37;48m   6\u001b[1;37;0m|    |\u001b[1;37;48m   7\u001b[1;37;0m|    |\u001b[1;37;48m   8\u001b[1;37;0m|    |\n",
       "--------------------+----+----------\n",
       "|    |    |    |    |\u001b[0;34mX 16\u001b[1;37;0m|    |    |\n",
       "------------------------------------"
      ]
     },
     "metadata": {},
     "output_type": "display_data"
    }
   ],
   "source": [
    "display(patch1)\n",
    "display(glue)\n",
    "display(patch2)"
   ]
  },
  {
   "cell_type": "code",
   "execution_count": 5,
   "metadata": {},
   "outputs": [],
   "source": [
    "patch_control = MemoryPatch(3, 3, 3)\n",
    "patch_target = MemoryPatch(3, 3, 3)\n",
    "patch_ancilla = MemoryPatch(3, 3, 3)"
   ]
  },
  {
   "cell_type": "code",
   "execution_count": 6,
   "metadata": {},
   "outputs": [],
   "source": [
    "zz_op = SurgeryOp([patch_control, patch_ancilla], [], [(patch_control, BoundaryType.TOP, patch_ancilla, BoundaryType.BOTTOM)])\n",
    "xx_op = SurgeryOp([patch_ancilla, patch_target], [], [(patch_ancilla, BoundaryType.RIGHT, patch_target, BoundaryType.LEFT)])"
   ]
  },
  {
   "cell_type": "code",
   "execution_count": null,
   "metadata": {},
   "outputs": [],
   "source": []
  }
 ],
 "metadata": {
  "kernelspec": {
   "display_name": "py_ray",
   "language": "python",
   "name": "python3"
  },
  "language_info": {
   "codemirror_mode": {
    "name": "ipython",
    "version": 3
   },
   "file_extension": ".py",
   "mimetype": "text/x-python",
   "name": "python",
   "nbconvert_exporter": "python",
   "pygments_lexer": "ipython3",
   "version": "3.11.5"
  }
 },
 "nbformat": 4,
 "nbformat_minor": 2
}
